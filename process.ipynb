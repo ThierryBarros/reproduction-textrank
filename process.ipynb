{
 "cells": [
  {
   "cell_type": "code",
   "execution_count": 1,
   "metadata": {},
   "outputs": [
    {
     "name": "stdout",
     "output_type": "stream",
     "text": [
      "Finish\n"
     ]
    }
   ],
   "source": [
    "'''\n",
    "This code is used to create article and summary files from the csv file.\n",
    "The output of the file will be a directory of text files representing seoarate articles and their summaries.\n",
    "Each summary line starts with tag \"@summary\" and the article is followed by \"@article\".\n",
    "'''\n",
    "import pandas as pd\n",
    "import os\n",
    "import re\n",
    "\n",
    "# read data from the csv file (from the location it is stored)\n",
    "Data = pd.read_csv(r'wikihowAll.csv')\n",
    "Data = Data.astype(str)\n",
    "rows, columns = Data.shape\n",
    "\n",
    "# create a file to record the file names. This can be later used to divide the dataset in train/dev/test sets\n",
    "title_file = open('titles.txt', 'wb')\n",
    "\n",
    "# The path where the articles are to be saved\n",
    "path = \"articles\"\n",
    "if not os.path.exists(path): os.makedirs(path)\n",
    "\n",
    "# go over the all the articles in the data file\n",
    "for row in range(rows):\n",
    "    abstract = Data.iloc[row,Data.columns.get_loc('headline')]      # headline is the column representing the summary sentences\n",
    "    article = Data.iloc[row,Data.columns.get_loc('text')]           # text is the column representing the article\n",
    "\n",
    "    #  a threshold is used to remove short articles with long summaries as well as articles with no summary\n",
    "    if len(abstract) < (0.75*len(article)):\n",
    "        # remove extra commas in abstracts\n",
    "        abstract = abstract.replace(\".,\",\".\")\n",
    "        abstract = abstract.encode('utf-8')\n",
    "        # remove extra commas in articles\n",
    "        article = re.sub(r'[.]+[\\n]+[,]',\".\\n\", article)\n",
    "        article = article.encode('utf-8')\n",
    "        \n",
    "\n",
    "        # a temporary file is created to initially write the summary, it is later used to separate the sentences of the summary\n",
    "        with open('temporaryFile.txt','wb') as t:\n",
    "            t.write(abstract)\n",
    "        \n",
    "        # file names are created using the alphanumeric charachters from the article titles.\n",
    "        # they are stored in a separate text file.\n",
    "        filename = Data.iloc[row,Data.columns.get_loc('title')]\n",
    "        filename = \"\".join(x for x in filename if x.isalnum())\n",
    "        filename1 = filename + '.txt'\n",
    "        filename = filename.encode('utf-8')\n",
    "        title_file.write(filename+b'\\n')\n",
    "\n",
    "        \n",
    "        with open(path+'/'+filename1,'wb') as f:\n",
    "            # summary sentences will first be written into the file in separate lines\n",
    "            with open('temporaryFile.txt','r') as t:\n",
    "                for line in t:\n",
    "                    line=line.lower()\n",
    "                    if line != \"\\n\" and line != \"\\t\" and line != \" \":\n",
    "                        f.write(b'@summary'+b'\\n')\n",
    "                        f.write(line.encode('utf-8'))\n",
    "                        f.write(b'\\n')\n",
    "                    \n",
    "            # finally the article is written to the file\n",
    "            f.write(b'@article' + b'\\n')    \n",
    "            f.write(article)\n",
    "\n",
    "title_file.close()\n",
    "print(\"Finish\")\n",
    "\n",
    "    \n"
   ]
  },
  {
   "cell_type": "code",
   "execution_count": null,
   "metadata": {},
   "outputs": [],
   "source": []
  }
 ],
 "metadata": {
  "kernelspec": {
   "display_name": "Python 3",
   "language": "python",
   "name": "python3"
  },
  "language_info": {
   "codemirror_mode": {
    "name": "ipython",
    "version": 3
   },
   "file_extension": ".py",
   "mimetype": "text/x-python",
   "name": "python",
   "nbconvert_exporter": "python",
   "pygments_lexer": "ipython3",
   "version": "3.7.6"
  }
 },
 "nbformat": 4,
 "nbformat_minor": 2
}
